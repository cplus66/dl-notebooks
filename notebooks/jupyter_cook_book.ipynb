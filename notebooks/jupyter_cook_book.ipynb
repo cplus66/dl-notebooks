{
 "cells": [
  {
   "cell_type": "code",
   "execution_count": null,
   "id": "7a269754",
   "metadata": {},
   "outputs": [],
   "source": [
    "import pandas as pd\n",
    "\n",
    "column_names = [\"row\",\"id\",\"year\",\"stint\",\"team\",\"g\",\"ab\"]\n",
    "column_widths = [3,9,4,1,3,2,3]\n",
    "df = pd.read_fwf(\"baseball.txt\",\n",
    " header=None,\n",
    " names=column_names,\n",
    " widths=column_widths)\n",
    "\n",
    "df"
   ]
  },
  {
   "cell_type": "code",
   "execution_count": null,
   "id": "0a80a83c",
   "metadata": {},
   "outputs": [],
   "source": [
    "import pandas\n",
    "import matplotlib\n",
    "#%matplotlib inline\n",
    "\n",
    "baby_name = ['Alice','Charles','Diane','Edward']\n",
    "number_births = [96, 155, 66, 272]\n",
    "dataset = list(zip(baby_name,number_births))\n",
    "df = pandas.DataFrame(data = dataset, columns=['Name', 'Number'])\n",
    "df['Number'].plot()"
   ]
  },
  {
   "cell_type": "code",
   "execution_count": null,
   "id": "64edaf05",
   "metadata": {},
   "outputs": [],
   "source": [
    "import pylab\n",
    "import random\n",
    "\n",
    "random.seed(113)\n",
    "\n",
    "samples = 1000\n",
    "dice = []\n",
    "for i in range(samples):\n",
    "    total = random.randint(1,6) + random.randint(1,6)\n",
    "    dice.append(total)\n",
    "\n",
    "pylab.hist(dice, bins=pylab.arange(1.5,12.6,1.0))\n",
    "pylab.show()"
   ]
  },
  {
   "cell_type": "code",
   "execution_count": null,
   "id": "e2f8434e",
   "metadata": {},
   "outputs": [],
   "source": [
    "# Install basemap package with 'pip install basemap'\n",
    "%matplotlib inline\n",
    "import matplotlib.pyplot as plt\n",
    "from mpl_toolkits.basemap import Basemap\n",
    "from matplotlib.patches import Polygon\n",
    "import pandas as pd\n",
    "import numpy as np\n",
    "import matplotlib\n",
    "\n",
    "# create the map\n",
    "map = Basemap(llcrnrlon=-119,llcrnrlat=22,urcrnrlon=-64,urcrnrlat=49,\n",
    "    projection='lcc',lat_1=33,lat_2=45,lon_0=-95)# load the shapefile, use the name 'states'\n",
    "# download from https://github.com/matplotlib/basemap/tree/master/examples/st99_d00.dbf,shx,shp\n",
    "map.readshapefile('files/st99_d00', name='states', drawbounds=True)\n",
    "\n",
    "# collect the state names from the shapefile attributes so we can\n",
    "# look up the shape obect for a state by it's name\n",
    "state_names = []\n",
    "for shape_dict in map.states_info:\n",
    " state_names.append(shape_dict['NAME'])\n",
    "\n",
    "ax = plt.gca() # get current axes instance\n",
    "\n",
    "# load density data drawn from \n",
    "# https://en.wikipedia.org/wiki/List_of_U.S._states_by_population_density\n",
    "df = pd.read_csv('files/states.csv')\n",
    "\n",
    "# determine the range of density values\n",
    "max_density = -1.0\n",
    "min_density = -1.0\n",
    "for index, row in df.iterrows():\n",
    "    d = row['density/mi2']\n",
    "    density = float(d.replace(',' , ''))\n",
    "    if (max_density==-1.0) or (max_density<density):\n",
    "        max_density = density\n",
    "    if (min_density==-1.0) or (min_density>density):\n",
    "        min_density = density\n",
    "print('max',max_density)\n",
    "print('min',min_density)\n",
    "range_density = max_density - min_density\n",
    "print(range_density)\n",
    "\n",
    "# we pick a color for the state density out of red spectrum\n",
    "cmap = matplotlib.colormaps.get_cmap('Spectral')\n",
    "\n",
    "# for each state get the color for it's density\n",
    "for index, row in df.iterrows():\n",
    "    state_name = row['State']\n",
    "    d = row['density/mi2']\n",
    "    density = float(d.replace(',' , ''))\n",
    "    color = cmap((density - min_density)/range_density)\n",
    "    seg = map.states[state_names.index(state_name)]\n",
    "    poly = Polygon(seg, facecolor=color, edgecolor=color)\n",
    "    ax.add_patch(poly)\n",
    "\n",
    "plt.show()"
   ]
  },
  {
   "cell_type": "code",
   "execution_count": null,
   "id": "e537ffdc",
   "metadata": {},
   "outputs": [],
   "source": []
  }
 ],
 "metadata": {
  "kernelspec": {
   "display_name": "Python 3 (ipykernel)",
   "language": "python",
   "name": "python3"
  },
  "language_info": {
   "codemirror_mode": {
    "name": "ipython",
    "version": 3
   },
   "file_extension": ".py",
   "mimetype": "text/x-python",
   "name": "python",
   "nbconvert_exporter": "python",
   "pygments_lexer": "ipython3",
   "version": "3.11.3"
  }
 },
 "nbformat": 4,
 "nbformat_minor": 5
}
