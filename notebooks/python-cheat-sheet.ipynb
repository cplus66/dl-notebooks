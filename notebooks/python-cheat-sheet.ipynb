{
 "cells": [
  {
   "cell_type": "code",
   "execution_count": null,
   "id": "20927c3e",
   "metadata": {},
   "outputs": [],
   "source": [
    "import site\n",
    "import datetime\n",
    "\n",
    "ct = datetime.datetime.now()\n",
    "print(ct)\n",
    "\n",
    "print(site.getsitepackages())"
   ]
  },
  {
   "cell_type": "code",
   "execution_count": null,
   "id": "35b8f07e",
   "metadata": {},
   "outputs": [],
   "source": [
    "def ask_ok(prompt, retries=2, reminder='Please try again!'):\n",
    "    while True:\n",
    "        ok = input(prompt)\n",
    "        if ok in ('y', 'ye', 'yes'):\n",
    "            return True\n",
    "        if ok in ('n', 'no', 'nop', 'nope'):\n",
    "            return False\n",
    "        retries = retries - 1\n",
    "        if retries < 0:\n",
    "            raise ValueError('invalid user response')\n",
    "        print(\"===\",reminder,\"===\")\n",
    "ask_ok('Do you really want to quit?')"
   ]
  },
  {
   "cell_type": "code",
   "execution_count": null,
   "id": "88c12479",
   "metadata": {},
   "outputs": [],
   "source": [
    "#i = 5\n",
    "\n",
    "def f(arg=i):\n",
    "    print(arg)\n",
    "\n",
    "i = 8\n",
    "f()"
   ]
  },
  {
   "cell_type": "code",
   "execution_count": null,
   "id": "a8f9f3ce",
   "metadata": {},
   "outputs": [],
   "source": [
    "def f(a, L=[]):\n",
    "    L.append(a)\n",
    "    return L\n",
    "\n",
    "print(f(1))\n",
    "print(f(2))\n",
    "print(f(3))"
   ]
  },
  {
   "cell_type": "code",
   "execution_count": null,
   "id": "0d0aff4b",
   "metadata": {},
   "outputs": [],
   "source": [
    "tuple(['cat', 'dog', 5])"
   ]
  },
  {
   "cell_type": "code",
   "execution_count": null,
   "id": "c78b0fdd",
   "metadata": {},
   "outputs": [],
   "source": [
    "my_cat = {\n",
    "    'size': 'fat',\n",
    "    'color': 'gray',\n",
    "    'disposition': 'loud'\n",
    "}\n",
    "print(my_cat)"
   ]
  },
  {
   "cell_type": "code",
   "execution_count": null,
   "id": "03008462",
   "metadata": {},
   "outputs": [],
   "source": [
    "dir()"
   ]
  },
  {
   "cell_type": "code",
   "execution_count": null,
   "id": "d3a5516f",
   "metadata": {},
   "outputs": [],
   "source": [
    "globals()\n",
    "hash(\"XX\")"
   ]
  },
  {
   "cell_type": "code",
   "execution_count": null,
   "id": "004912e6",
   "metadata": {},
   "outputs": [],
   "source": [
    "help()"
   ]
  },
  {
   "cell_type": "code",
   "execution_count": null,
   "id": "a575427b",
   "metadata": {},
   "outputs": [],
   "source": [
    "print(','.join(['cats', 'rats', 'bats']))\n"
   ]
  },
  {
   "cell_type": "code",
   "execution_count": null,
   "id": "7af02996",
   "metadata": {},
   "outputs": [],
   "source": [
    "from datetime import datetime\n",
    "now = datetime.now().strftime(\"%b/%d/%Y - %H:%M:%S\")\n",
    "print(f'date and time: {now=}')"
   ]
  },
  {
   "cell_type": "code",
   "execution_count": null,
   "id": "64bb71a8",
   "metadata": {},
   "outputs": [],
   "source": [
    "# Import the abc module to define abstract classes and methods\n",
    "from abc import ABC, abstractmethod\n",
    "\n",
    "# Define an abstract class called Shape that has an abstract method called area\n",
    "class Shape(ABC):\n",
    "    @abstractmethod\n",
    "    def area(self):\n",
    "        pass\n",
    "\n",
    "# Define a Rectangle class that inherits from Shape\n",
    "class Rectangle(Shape):\n",
    "    def __init__(self, width, height):\n",
    "        self.width = width\n",
    "        self.height = height\n",
    "\n",
    "    # Implement the area method for Rectangles\n",
    "    def area(self):\n",
    "        return self.width * self.height\n",
    "\n",
    "# Define a Circle class that also inherits from Shape\n",
    "class Circle(Shape):\n",
    "    def __init__(self, radius):\n",
    "        self.radius = radius\n",
    "\n",
    "    # Implement the area method for Circles\n",
    "    def area(self):\n",
    "        return 3.14 * self.radius ** 2\n",
    "\n",
    "# Create a list of shapes that includes both Rectangles and Circles\n",
    "shapes = [Rectangle(4, 5), Circle(7)]\n",
    "\n",
    "# Loop through each shape in the list and print its area\n",
    "for shape in shapes:\n",
    "    print(shape.area())"
   ]
  },
  {
   "cell_type": "code",
   "execution_count": null,
   "id": "6aa8e6c2",
   "metadata": {},
   "outputs": [],
   "source": [
    "#The Shape class is defined with an abstract area method, which is intended to be overridden by subclasses.\n",
    "class Shape:\n",
    "    def area(self):\n",
    "        pass\n",
    "\n",
    "class Rectangle(Shape):\n",
    "    # The Rectangle class is defined with an __init__ method that initializes\n",
    "    # width and height instance variables.\n",
    "    # It also defines an area method that calculates and returns\n",
    "    # the area of a rectangle using the width and height instance variables.\n",
    "    def __init__(self, width, height):\n",
    "        self.width = width  # Initialize width instance variable\n",
    "        self.height = height  # Initialize height instance variable\n",
    "\n",
    "    def area(self):\n",
    "        return self.width * self.height  # Return area of rectangle\n",
    "\n",
    "\n",
    " # The Circle class is defined with an __init__ method\n",
    " # that initializes a radius instance variable.\n",
    " # It also defines an area method that calculates and\n",
    " # returns the area of a circle using the radius instance variable.\n",
    "class Circle(Shape):\n",
    "    def __init__(self, radius):\n",
    "        self.radius = radius  # Initialize radius instance variable\n",
    "\n",
    "    def area(self):\n",
    "        return 3.14 * self.radius ** 2  # Return area of circle using pi * r^2\n",
    "\n",
    "# The shapes list is created with one Rectangle object and one Circle object. The for\n",
    "# loop iterates over each object in the list and calls the area method of each object\n",
    "# The output will be the area of the rectangle (20) and the area of the circle (153.86).\n",
    "shapes = [Rectangle(4, 5), Circle(7)]  # Create a list of Shape objects\n",
    "for shape in shapes:\n",
    "    print(shape.area())  # Output the area of each Shape object\n"
   ]
  },
  {
   "cell_type": "code",
   "execution_count": null,
   "id": "d8aaeb48",
   "metadata": {},
   "outputs": [],
   "source": [
    "import os\n",
    "os.getcwd()"
   ]
  },
  {
   "cell_type": "code",
   "execution_count": null,
   "id": "41d72125",
   "metadata": {},
   "outputs": [],
   "source": [
    "with open('test.ipynb') as hello_file:\n",
    "    for line in hello_file:\n",
    "        print(line,end='')"
   ]
  },
  {
   "cell_type": "code",
   "execution_count": null,
   "id": "9750a5e7",
   "metadata": {},
   "outputs": [],
   "source": [
    "with open('README.txt', 'w') as readme_file:\n",
    "    readme_file.write('# Readme')"
   ]
  },
  {
   "cell_type": "code",
   "execution_count": null,
   "id": "31240646",
   "metadata": {},
   "outputs": [],
   "source": [
    "with open('README.txt', 'w') as readme_file:\n",
    "    readme_file.write('# Readme\\n')\n",
    "\n",
    "with open('README.txt') as hello_file:\n",
    "    for line in hello_file:\n",
    "        print(line,end='')"
   ]
  },
  {
   "cell_type": "code",
   "execution_count": null,
   "id": "8d22af7b",
   "metadata": {},
   "outputs": [],
   "source": [
    "import json\n",
    "content = {\"name\": \"Joe\", \"age\": 20, \"height\": 163}\n",
    "with open(\"hello.json\", \"w\") as f:\n",
    "    json.dump(content, f, indent=2)\n",
    "\n",
    "with open(\"hello.json\", \"r\") as f:\n",
    "    content = json.load(f)\n",
    "content\n",
    "type(content)\n",
    "\n",
    "name, age = content.get('name'), content.get('age')\n",
    "\n",
    "name, age\n",
    "#for item in content.items():\n",
    "#    print(item)\n",
    "    \n",
    "#for key, value in content.items():\n",
    "#    print(f'Key: {key}, Value: {value}')"
   ]
  },
  {
   "cell_type": "code",
   "execution_count": null,
   "id": "595e05a1",
   "metadata": {},
   "outputs": [],
   "source": [
    "from ruamel.yaml import YAML\n",
    "with open(\"hello.yaml\") as f:\n",
    "    yaml=YAML()\n",
    "    yaml.load(f)\n",
    "f\n",
    "type(f)"
   ]
  },
  {
   "cell_type": "code",
   "execution_count": null,
   "id": "e2d857e9",
   "metadata": {},
   "outputs": [],
   "source": [
    "import anyconfig\n",
    "conf1 = anyconfig.load(\"hello.yaml\")\n",
    "conf1\n",
    "type(conf1)\n",
    "conf1.values()\n",
    "#for value in conf1.values():\n",
    "#    print(value)\n",
    "\n",
    "for item in conf1.items():\n",
    "    print(item)\n",
    "\n",
    "type(conf1.get('calling-birds'))\n",
    "type(conf1.get('xmas-fifth-day'))\n",
    "\n",
    "conf1.get('xmas-fifth-day').get('calling-birds')"
   ]
  },
  {
   "cell_type": "code",
   "execution_count": null,
   "id": "1bc70c54",
   "metadata": {},
   "outputs": [],
   "source": [
    "pet = {'color': 'red', 'age': 42}\n",
    "for value in pet.values():\n",
    "    print(value)\n",
    "    \n",
    "type(pet)"
   ]
  },
  {
   "cell_type": "code",
   "execution_count": null,
   "id": "cfc4fe97",
   "metadata": {},
   "outputs": [],
   "source": [
    "raise Exception('This is the error message.')"
   ]
  },
  {
   "cell_type": "code",
   "execution_count": null,
   "id": "9bef8e40",
   "metadata": {},
   "outputs": [],
   "source": [
    "pod_bay_door_status = 'open'\n",
    "assert pod_bay_door_status == 'open', 'The pod bay doors need to be \"open\".'"
   ]
  },
  {
   "cell_type": "code",
   "execution_count": null,
   "id": "4fec958f",
   "metadata": {},
   "outputs": [],
   "source": [
    "import logging\n",
    "#logging.basicConfig(level=logging.DEBUG, format=' %(asctime)s  %(levelname)s  %(message)s')\n",
    "#logging.basicConfig(level=logging.DEBUG, format=' %(asctime)s %(message)s')\n",
    "logging.basicConfig(filename='hello.log', level=logging.DEBUG, format='%(asctime)s - %(levelname)s - %(message)s')\n",
    "logging.debug('Start of program 5')"
   ]
  },
  {
   "cell_type": "code",
   "execution_count": null,
   "id": "34b70aab",
   "metadata": {},
   "outputs": [],
   "source": [
    "class ContextManager:\n",
    "    def __enter__(self, *args, **kwargs):\n",
    "        print(\"--enter--\")\n",
    "\n",
    "    def __exit__(self, *args):\n",
    "        print(\"--exit--\")\n",
    "\n",
    "with ContextManager():\n",
    "    print(\"test\")\n",
    "    print(\"test2\")\n",
    "\n",
    "print('HELLO')    "
   ]
  },
  {
   "cell_type": "code",
   "execution_count": null,
   "id": "ef5858f2",
   "metadata": {},
   "outputs": [],
   "source": [
    "from datetime import datetime\n",
    "now = datetime.now()\n",
    "now"
   ]
  },
  {
   "cell_type": "code",
   "execution_count": null,
   "id": "fec2ed1e",
   "metadata": {},
   "outputs": [],
   "source": [
    "now.strftime(\"%d-%b-%Y\")"
   ]
  },
  {
   "cell_type": "code",
   "execution_count": null,
   "id": "bf8ebce9",
   "metadata": {},
   "outputs": [],
   "source": [
    "now.strftime(\"%Y-%m%d-%H%M\")"
   ]
  },
  {
   "cell_type": "code",
   "execution_count": null,
   "id": "d8598e3c",
   "metadata": {},
   "outputs": [],
   "source": []
  }
 ],
 "metadata": {
  "kernelspec": {
   "display_name": "Python 3 (ipykernel)",
   "language": "python",
   "name": "python3"
  },
  "language_info": {
   "codemirror_mode": {
    "name": "ipython",
    "version": 3
   },
   "file_extension": ".py",
   "mimetype": "text/x-python",
   "name": "python",
   "nbconvert_exporter": "python",
   "pygments_lexer": "ipython3",
   "version": "3.11.3"
  }
 },
 "nbformat": 4,
 "nbformat_minor": 5
}
