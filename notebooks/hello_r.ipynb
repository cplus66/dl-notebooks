{
 "cells": [
  {
   "cell_type": "code",
   "execution_count": null,
   "id": "c1cef092",
   "metadata": {},
   "outputs": [],
   "source": [
    "heating <- read.csv(file=\"https://raw.github.com/vincentarelbundock/Rdatasets/master/csv/Ecdat/Heating.csv\", header=TRUE, sep=\",\")\n",
    "colnames(heating)[colnames(heating)==\"depvar\"] <- \"system\"\n",
    "colnames(heating)[colnames(heating)==\"ic.gc\"] <- \"install_cost\"\n",
    "colnames(heating)[colnames(heating)==\"oc.gc\"] <- \"annual_cost\"\n",
    "colnames(heating)[colnames(heating)==\"pb.gc\"] <- \"ratio_annual_install\"\n",
    "\n",
    "# remove unused columns\n",
    "heating$idcase <- NULL\n",
    "heating$ic.gr <- NULL\n",
    "heating$ic.ec <- NULL\n",
    "heating$ic.hp <- NULL\n",
    "heating$ic.er <- NULL\n",
    "heating$oc.gr <- NULL\n",
    "heating$oc.ec <- NULL\n",
    "heating$oc.hp <- NULL\n",
    "heating$oc.er <- NULL\n",
    "heating$pb.gr <- NULL\n",
    "heating$pb.ec <- NULL\n",
    "heating$pb.er <- NULL\n",
    "heating$pb.hp <- NULL\n",
    "head(heating)"
   ]
  },
  {
   "cell_type": "code",
   "execution_count": null,
   "id": "9030355f",
   "metadata": {},
   "outputs": [],
   "source": []
  }
 ],
 "metadata": {
  "kernelspec": {
   "display_name": "R",
   "language": "R",
   "name": "ir"
  },
  "language_info": {
   "codemirror_mode": "r",
   "file_extension": ".r",
   "mimetype": "text/x-r-source",
   "name": "R",
   "pygments_lexer": "r",
   "version": "4.2.0"
  }
 },
 "nbformat": 4,
 "nbformat_minor": 5
}
