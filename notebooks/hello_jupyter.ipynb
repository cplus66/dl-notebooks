{
 "cells": [
  {
   "cell_type": "code",
   "execution_count": null,
   "id": "5693020f",
   "metadata": {},
   "outputs": [],
   "source": [
    "from matplotlib import pyplot as plt\n",
    "import numpy as np\n",
    "\n",
    "# Generate 100 random data points along 3 dimensions\n",
    "x, y, scale = np.random.randn(3, 100)\n",
    "fig, ax = plt.subplots()\n",
    "\n",
    "# Map each onto a scatterplot we'll create with Matplotlib\n",
    "ax.scatter(x=abs(x)*10, y=abs(y)*10, c=scale, s=np.abs(scale)*1000)\n",
    "ax.set(title=\"Some random data, created with X JupyterLab!\")\n",
    "plt.show()"
   ]
  },
  {
   "cell_type": "code",
   "execution_count": null,
   "id": "fe55eb90",
   "metadata": {},
   "outputs": [],
   "source": []
  }
 ],
 "metadata": {
  "kernelspec": {
   "display_name": "Python 3 (ipykernel)",
   "language": "python",
   "name": "python3"
  },
  "language_info": {
   "codemirror_mode": {
    "name": "ipython",
    "version": 3
   },
   "file_extension": ".py",
   "mimetype": "text/x-python",
   "name": "python",
   "nbconvert_exporter": "python",
   "pygments_lexer": "ipython3",
   "version": "3.11.3"
  }
 },
 "nbformat": 4,
 "nbformat_minor": 5
}
